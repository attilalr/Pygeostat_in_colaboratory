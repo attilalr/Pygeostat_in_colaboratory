{
  "nbformat": 4,
  "nbformat_minor": 0,
  "metadata": {
    "colab": {
      "name": "Exemplo_pygeostat.ipynb",
      "provenance": [],
      "authorship_tag": "ABX9TyPOIOStmfb5ArPE1pmtjyYh",
      "include_colab_link": true
    },
    "kernelspec": {
      "name": "python3",
      "display_name": "Python 3"
    },
    "language_info": {
      "name": "python"
    }
  },
  "cells": [
    {
      "cell_type": "markdown",
      "metadata": {
        "id": "view-in-github",
        "colab_type": "text"
      },
      "source": [
        "<a href=\"https://colab.research.google.com/github/attilalr/Pygeostat_in_colaboratory/blob/main/Exemple_pygeostat.ipynb\" target=\"_parent\"><img src=\"https://colab.research.google.com/assets/colab-badge.svg\" alt=\"Open In Colab\"/></a>"
      ]
    },
    {
      "cell_type": "markdown",
      "metadata": {
        "id": "hKIEMMOnpr7_"
      },
      "source": [
        "\n",
        "Python script Pygeostat example in Colaboratory Google"
      ]
    },
    {
      "cell_type": "code",
      "metadata": {
        "colab": {
          "base_uri": "https://localhost:8080/"
        },
        "id": "7ayagTdho3DJ",
        "outputId": "45a2b49c-d7a2-417f-84d3-59688397e393"
      },
      "source": [
        "import numpy as np\n",
        "import pandas as pd\n",
        "import matplotlib.pyplot as plt\n",
        "\n",
        "import os, shutil, sys\n",
        "\n",
        "try:\n",
        "  import pygeostat as gs\n",
        "except:\n",
        "  !pip3 install pygeostat"
      ],
      "execution_count": 1,
      "outputs": [
        {
          "output_type": "stream",
          "text": [
            "/usr/local/lib/python3.7/dist-packages/statsmodels/tools/_testing.py:19: FutureWarning: pandas.util.testing is deprecated. Use the functions in the public API at pandas.testing instead.\n",
            "  import pandas.util.testing as tm\n"
          ],
          "name": "stderr"
        }
      ]
    },
    {
      "cell_type": "code",
      "metadata": {
        "id": "M-kTm8gD35bA"
      },
      "source": [
        "work_folder = '/content/temp_folder'"
      ],
      "execution_count": 2,
      "outputs": []
    },
    {
      "cell_type": "markdown",
      "metadata": {
        "id": "C-NyBCqMLNLk"
      },
      "source": [
        "The next cell will download the gslib executables and chmod +x all files in the executable folder."
      ]
    },
    {
      "cell_type": "code",
      "metadata": {
        "colab": {
          "base_uri": "https://localhost:8080/"
        },
        "id": "HERe_baB13Pj",
        "outputId": "94ec88ae-87d5-4452-f98e-35180c8b5685"
      },
      "source": [
        "gs.get_executable()\n",
        "string_path_exec = os.popen('find /usr/local/lib -name \\'kt3d\\'|head -n1').read()\n",
        "string_path_exec = '/'.join(string_path_exec.split('/')[:-1])+'/'\n",
        "print ('Caminho dos executáveis: {}'.format(string_path_exec))\n",
        "\n",
        "string_cmd = 'chmod +x '+string_path_exec+'*'\n",
        "print ('Alterando permissão de execução: {}'.format(string_cmd))\n",
        "os.system(string_cmd)\n",
        "\n",
        "print ('Lista de arquivos na pasta de executáveis: {}'.format(os.listdir(string_path_exec)))"
      ],
      "execution_count": 3,
      "outputs": [
        {
          "output_type": "stream",
          "text": [
            "The software is available under gslib license agreement (http://www.gslib.com)\n",
            "Caminho dos executáveis: /usr/local/lib/python3.7/dist-packages/pygeostat/executable/\n",
            "Alterando permissão de execução: chmod +x /usr/local/lib/python3.7/dist-packages/pygeostat/executable/*\n",
            "Lista de arquivos na pasta de executáveis: ['varmap', 'ik3d', 'gtsim', 'kt3d', 'cokb3d', 'addcoord', 'sisim_gs', 'probplt', 'plotem', 'draw', 'declus', 'kb2d', 'histplt', 'locmap', 'anneal', 'postik', 'histsmth', 'sasim', 'lusim', 'vmodel', 'scatsmth', 'pixelplt', 'nscore', 'bivplt', 'gamv', 'bicalib', 'pfsim', 'Info.txt', 'vargplt', 'trans', 'rotcoord', 'ellipsim', 'gam', 'sgsim', 'postsim', 'scatplt', 'bigaus', 'qpplt', 'backtr', 'sisim_lm', 'sisim']\n"
          ],
          "name": "stdout"
        }
      ]
    },
    {
      "cell_type": "markdown",
      "metadata": {
        "id": "xSiuh13xLkho"
      },
      "source": [
        "Setting work folder."
      ]
    },
    {
      "cell_type": "code",
      "metadata": {
        "colab": {
          "base_uri": "https://localhost:8080/"
        },
        "id": "l36xzH0S3hhy",
        "outputId": "227c21d8-8101-403f-cfd6-fd96b3e6ac44"
      },
      "source": [
        "try:\n",
        "    os.mkdir(work_folder)\n",
        "    print(\"Folder {} created.\".format(work_folder)) \n",
        "except FileExistsError:\n",
        "    print(\"Folder {} already exists.\".format(work_folder)) \n"
      ],
      "execution_count": 4,
      "outputs": [
        {
          "output_type": "stream",
          "text": [
            "Folder /content/temp_folder already exists.\n"
          ],
          "name": "stdout"
        }
      ]
    },
    {
      "cell_type": "markdown",
      "metadata": {
        "id": "4nMExI7aLw3x"
      },
      "source": [
        "In the next cell we are going to copy an example data to the work folder and open it."
      ]
    },
    {
      "cell_type": "code",
      "metadata": {
        "colab": {
          "base_uri": "https://localhost:8080/"
        },
        "id": "JbwXEbi84dsT",
        "outputId": "0d8ba337-a5a1-4cb0-dd9e-fb5aeb7e3b4d"
      },
      "source": [
        "example_datafile = 'point2d_surf'\n",
        "\n",
        "# Vamos trabalhar com o arquivo de dados na pasta de trabalho\n",
        "dfl = gs.ExampleData(example_datafile)\n",
        "shutil.copy(dfl.flname, work_folder)\n",
        "print ('Lista de arquivos em {}:'.format(work_folder))\n",
        "os.listdir(work_folder)\n",
        "\n",
        "dfl = gs.DataFile(flname=work_folder+'/'+example_datafile+'.dat')\n",
        "\n",
        "datafile_name = example_datafile+'.dat'"
      ],
      "execution_count": 5,
      "outputs": [
        {
          "output_type": "stream",
          "text": [
            "Lista de arquivos em /content/temp_folder:\n"
          ],
          "name": "stdout"
        }
      ]
    },
    {
      "cell_type": "code",
      "metadata": {
        "colab": {
          "base_uri": "https://localhost:8080/",
          "height": 852
        },
        "id": "0ULIy5397ai5",
        "outputId": "42d69c1c-a00d-4135-f805-7fff29b2a1c2"
      },
      "source": [
        "for var in dfl.variables:\n",
        "    gs.histogram_plot(dfl, var=var, figsize = (7,4))"
      ],
      "execution_count": 6,
      "outputs": [
        {
          "output_type": "stream",
          "text": [
            "findfont: Font family ['Calibri'] not found. Falling back to DejaVu Sans.\n",
            "findfont: Font family ['Calibri'] not found. Falling back to DejaVu Sans.\n",
            "findfont: Font family ['Calibri'] not found. Falling back to DejaVu Sans.\n"
          ],
          "name": "stderr"
        },
        {
          "output_type": "display_data",
          "data": {
            "image/png": "[encoded data removed]",
            "text/plain": [
              "<Figure size 504x288 with 2 Axes>"
            ]
          },
          "metadata": {
            "tags": []
          }
        },
        {
          "output_type": "display_data",
          "data": {
            "image/png": "[encoded data removed]",
            "text/plain": [
              "<Figure size 504x288 with 2 Axes>"
            ]
          },
          "metadata": {
            "tags": []
          }
        },
        {
          "output_type": "display_data",
          "data": {
            "image/png": "[encoded data removed]",
            "text/plain": [
              "<Figure size 504x288 with 2 Axes>"
            ]
          },
          "metadata": {
            "tags": []
          }
        }
      ]
    },
    {
      "cell_type": "markdown",
      "metadata": {
        "id": "T3SGmbsIMNHQ"
      },
      "source": [
        "Now it is time to execute a gslib program. The first step is to define the procedure to get the blank parameters file."
      ]
    },
    {
      "cell_type": "code",
      "metadata": {
        "colab": {
          "base_uri": "https://localhost:8080/"
        },
        "id": "HWTxbfbUlH7l",
        "outputId": "e27d83ee-512c-454c-dea6-adb817712c42"
      },
      "source": [
        "program = 'nscore'\n",
        "string_cmd = f'echo \\'\\'|{string_path_exec}{program}'\n",
        "print (string_cmd)\n",
        "print (os.popen(string_cmd).read())\n",
        "\n",
        "print ()\n",
        "print ('### Copy the parameter file content below ###')\n",
        "!cat /content/nscore.par"
      ],
      "execution_count": 7,
      "outputs": [
        {
          "output_type": "stream",
          "text": [
            "echo ''|/usr/local/lib/python3.7/dist-packages/pygeostat/executable/nscore\n",
            "\n",
            " NSCORE Version: 3.000\n",
            "\n",
            " Which parameter file do you want to use?\n",
            "  data file = ../data/cluster.dat                     \n",
            "  columns =  3 5\n",
            "  trimming limits =  -1.E+21 1.E+21\n",
            "  consider a different ref. dist. (1=yes) =  0\n",
            "  file with reference distribution = ../histsmth/histsmth.out -              \n",
            "  columns =  1 2\n",
            "  file for output = nscore.out                              \n",
            "  file for transformation table = nscore.trn                              \n",
            " ERROR: ../data/cluster.dat                                                                                                                                                                                                                                                                                                                                                                                                                                                                                                              does not exist\n",
            "        this file is needed! \n",
            "\n",
            "\n",
            "### Copy the parameter file content below ###\n",
            "                  Parameters for NSCORE\n",
            "                  *********************\n",
            "\n",
            "START OF PARAMETERS:\n",
            "../data/cluster.dat      -file with data\n",
            "3   5                    -  columns for variable and weight\n",
            "-1.0e21   1.0e21         -  trimming limits\n",
            "0                        -1=transform according to specified ref. dist.\n",
            "../histsmth/histsmth.out -  file with reference dist.\n",
            "1   2                    -  columns for variable and weight\n",
            "nscore.out               -file for output\n",
            "nscore.trn               -file for output transformation table\n"
          ],
          "name": "stdout"
        }
      ]
    },
    {
      "cell_type": "markdown",
      "metadata": {
        "id": "ZI8XTLyCTwTx"
      },
      "source": [
        "Now we copy from the last cell's output."
      ]
    },
    {
      "cell_type": "code",
      "metadata": {
        "colab": {
          "base_uri": "https://localhost:8080/"
        },
        "id": "HCr1IS7pT23F",
        "outputId": "0a23f428-f4b2-4d0d-bfb1-cb3c567f0321"
      },
      "source": [
        "nscore_p = gs.Program(program = 'nscore')\n",
        "\n",
        "# parstring fields to fill in\n",
        "\n",
        "# input\n",
        "datafile_name = os.path.join(work_folder, dfl.flname)\n",
        "\n",
        "# parameters\n",
        "tmin = gs.Parameters['data.tmin']\n",
        "\n",
        "# nscore output filenames\n",
        "nscore_outfl = os.path.join(work_folder, 'nscore.out')\n",
        "trnfl = os.path.join(work_folder, 'nscore.trn')\n",
        "\n",
        "parstr = f\"\"\"\n",
        "                  Parameters for NSCORE\n",
        "                  *********************\n",
        "\n",
        "START OF PARAMETERS:\n",
        "{datafile_name}      -file with data\n",
        "6    0              -  columns for variable and weight\n",
        "{tmin}   1.0e21         -  trimming limits\n",
        "0                        -1=transform according to specified ref. dist.\n",
        "nofile.out -  file with reference dist.\n",
        "1   2                    -  columns for variable and weight\n",
        "{nscore_outfl}               -file for output\n",
        "{trnfl}               -file for output transformation table\n",
        "\"\"\"\n",
        "\n",
        "print (parstr)\n",
        "\n",
        "nscore_p.run(parstr=parstr, quiet=False, liveoutput=True)"
      ],
      "execution_count": 30,
      "outputs": [
        {
          "output_type": "stream",
          "text": [
            "Unable to find the provided program! Trying to use the executable pool shipped with pygeostat!\n",
            "\n",
            "                  Parameters for NSCORE\n",
            "                  *********************\n",
            "\n",
            "START OF PARAMETERS:\n",
            "/content/temp_folder/point2d_surf.dat      -file with data\n",
            "6    0              -  columns for variable and weight\n",
            "-998.0   1.0e21         -  trimming limits\n",
            "0                        -1=transform according to specified ref. dist.\n",
            "nofile.out -  file with reference dist.\n",
            "1   2                    -  columns for variable and weight\n",
            "/content/temp_folder/nscore.out               -file for output\n",
            "/content/temp_folder/nscore.trn               -file for output transformation table\n",
            "\n",
            "Calling:  ['/usr/local/lib/python3.7/dist-packages/pygeostat/executable/nscore', 'temp']\n",
            "\n",
            " NSCORE Version: 3.000\n",
            "\n",
            "  data file = /content/temp_folder/point2d_surf.dat   \n",
            "  columns =  6 0\n",
            "  trimming limits =  -998. 1.E+21\n",
            "  consider a different ref. dist. (1=yes) =  0\n",
            "  file with reference distribution = nofile.out -                            \n",
            "  columns =  1 2\n",
            "  file for output = /content/temp_folder/nscore.out         \n",
            "  file for transformation table = /content/temp_folder/nscore.trn         \n",
            "\n",
            " NSCORE Version: 3.000 Finished\n",
            "\n"
          ],
          "name": "stdout"
        }
      ]
    },
    {
      "cell_type": "code",
      "metadata": {
        "colab": {
          "base_uri": "https://localhost:8080/",
          "height": 221
        },
        "id": "wEBtQrIfd1XY",
        "outputId": "62891130-2f88-40df-9d07-0c1c05ead6f4"
      },
      "source": [
        "dfl_ns = gs.DataFile(nscore_outfl)\n",
        "print (dfl_ns.flname)\n",
        "dfl_ns.head()"
      ],
      "execution_count": 13,
      "outputs": [
        {
          "output_type": "stream",
          "text": [
            "/content/temp_folder/nscore.out\n"
          ],
          "name": "stdout"
        },
        {
          "output_type": "execute_result",
          "data": {
            "text/html": [
              "<div>\n",
              "<style scoped>\n",
              "    .dataframe tbody tr th:only-of-type {\n",
              "        vertical-align: middle;\n",
              "    }\n",
              "\n",
              "    .dataframe tbody tr th {\n",
              "        vertical-align: top;\n",
              "    }\n",
              "\n",
              "    .dataframe thead th {\n",
              "        text-align: right;\n",
              "    }\n",
              "</style>\n",
              "<table border=\"1\" class=\"dataframe\">\n",
              "  <thead>\n",
              "    <tr style=\"text-align: right;\">\n",
              "      <th></th>\n",
              "      <th>HoleID</th>\n",
              "      <th>X</th>\n",
              "      <th>Y</th>\n",
              "      <th>Top Elevation</th>\n",
              "      <th>Thickness</th>\n",
              "      <th>Base Elevation</th>\n",
              "      <th>NS:Y</th>\n",
              "    </tr>\n",
              "  </thead>\n",
              "  <tbody>\n",
              "    <tr>\n",
              "      <th>0</th>\n",
              "      <td>3.0</td>\n",
              "      <td>405.63</td>\n",
              "      <td>2135.75</td>\n",
              "      <td>376.69</td>\n",
              "      <td>47.98</td>\n",
              "      <td>328.71</td>\n",
              "      <td>1.31969</td>\n",
              "    </tr>\n",
              "    <tr>\n",
              "      <th>1</th>\n",
              "      <td>5.0</td>\n",
              "      <td>235.89</td>\n",
              "      <td>1865.70</td>\n",
              "      <td>379.69</td>\n",
              "      <td>51.00</td>\n",
              "      <td>328.69</td>\n",
              "      <td>0.39659</td>\n",
              "    </tr>\n",
              "    <tr>\n",
              "      <th>2</th>\n",
              "      <td>6.0</td>\n",
              "      <td>325.03</td>\n",
              "      <td>2055.81</td>\n",
              "      <td>376.86</td>\n",
              "      <td>49.34</td>\n",
              "      <td>327.52</td>\n",
              "      <td>0.98182</td>\n",
              "    </tr>\n",
              "    <tr>\n",
              "      <th>3</th>\n",
              "      <td>7.0</td>\n",
              "      <td>675.54</td>\n",
              "      <td>2195.25</td>\n",
              "      <td>381.49</td>\n",
              "      <td>48.75</td>\n",
              "      <td>332.74</td>\n",
              "      <td>1.64539</td>\n",
              "    </tr>\n",
              "    <tr>\n",
              "      <th>4</th>\n",
              "      <td>8.0</td>\n",
              "      <td>355.73</td>\n",
              "      <td>1995.74</td>\n",
              "      <td>376.97</td>\n",
              "      <td>48.94</td>\n",
              "      <td>328.03</td>\n",
              "      <td>0.80371</td>\n",
              "    </tr>\n",
              "  </tbody>\n",
              "</table>\n",
              "</div>"
            ],
            "text/plain": [
              "   HoleID       X        Y  Top Elevation  Thickness  Base Elevation     NS:Y\n",
              "0     3.0  405.63  2135.75         376.69      47.98          328.71  1.31969\n",
              "1     5.0  235.89  1865.70         379.69      51.00          328.69  0.39659\n",
              "2     6.0  325.03  2055.81         376.86      49.34          327.52  0.98182\n",
              "3     7.0  675.54  2195.25         381.49      48.75          332.74  1.64539\n",
              "4     8.0  355.73  1995.74         376.97      48.94          328.03  0.80371"
            ]
          },
          "metadata": {
            "tags": []
          },
          "execution_count": 13
        }
      ]
    },
    {
      "cell_type": "code",
      "metadata": {
        "colab": {
          "base_uri": "https://localhost:8080/",
          "height": 277
        },
        "id": "AUHQcKyreY1x",
        "outputId": "544d3dd6-101f-445a-fe62-a8d9c10e2c97"
      },
      "source": [
        "for var in dfl_ns.variables:\n",
        "    if 'ns' in var.lower():\n",
        "        gs.histogram_plot(dfl_ns, var=var, color='g', figsize = (7,4))"
      ],
      "execution_count": 11,
      "outputs": [
        {
          "output_type": "display_data",
          "data": {
            "image/png": "[encoded data removed]",
            "text/plain": [
              "<Figure size 504x288 with 2 Axes>"
            ]
          },
          "metadata": {
            "tags": []
          }
        }
      ]
    }
  ]
}